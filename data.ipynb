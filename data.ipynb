{
 "cells": [
  {
   "cell_type": "code",
   "execution_count": null,
   "metadata": {},
   "outputs": [],
   "source": [
    "import pandas as pd\n",
    "import requests\n",
    "import json\n",
    "\n",
    "gold = []\n",
    "platinum = []\n",
    "\n",
    "from pprint import pprint\n",
    "from config import api_key\n",
    "\n",
    "\n",
    "gold_url = \"https://na1.api.riotgames.com/lol/league-exp/v4/entries/RANKED_SOLO_5x5/GOLD/I?page=1&api_key=\" + api_key\n",
    "gold_data = requests.get(gold_url).json()\n",
    "\n"
   ]
  },
  {
   "cell_type": "code",
   "execution_count": null,
   "metadata": {},
   "outputs": [],
   "source": [
    "#Convert URL to DF\n",
    "gold_data_df = pd.DataFrame(gold_data)\n",
    "\n",
    "gold_data_df"
   ]
  },
  {
   "cell_type": "code",
   "execution_count": null,
   "metadata": {},
   "outputs": [],
   "source": [
    "gold_url2 = \"https://na1.api.riotgames.com/lol/league-exp/v4/entries/RANKED_SOLO_5x5/GOLD/II?page=1&api_key=\" + api_key\n",
    "gold_data2 = requests.get(gold_url2).json()\n",
    "pprint(gold_data2)"
   ]
  },
  {
   "cell_type": "code",
   "execution_count": null,
   "metadata": {},
   "outputs": [],
   "source": [
    "gold_data_df2 = pd.DataFrame(gold_data2)\n",
    "\n",
    "gold_data_df2"
   ]
  },
  {
   "cell_type": "code",
   "execution_count": null,
   "metadata": {},
   "outputs": [],
   "source": [
    "gold_url3 = \"https://na1.api.riotgames.com/lol/league-exp/v4/entries/RANKED_SOLO_5x5/GOLD/III?page=1&api_key=\" + api_key\n",
    "gold_data3 = requests.get(gold_url3).json()\n",
    "pprint(gold_data3)\n"
   ]
  },
  {
   "cell_type": "code",
   "execution_count": null,
   "metadata": {},
   "outputs": [],
   "source": [
    "gold_data_df3 = pd.DataFrame(gold_data3)\n",
    "\n",
    "gold_data_df3"
   ]
  },
  {
   "cell_type": "code",
   "execution_count": null,
   "metadata": {},
   "outputs": [],
   "source": [
    "gold_url4 = \"https://na1.api.riotgames.com/lol/league-exp/v4/entries/RANKED_SOLO_5x5/GOLD/IV?page=1&api_key=\" + api_key\n",
    "gold_data4 = requests.get(gold_url4).json()\n",
    "pprint(gold_data4)"
   ]
  },
  {
   "cell_type": "code",
   "execution_count": null,
   "metadata": {},
   "outputs": [],
   "source": [
    "gold_data_df4 = pd.DataFrame(gold_data4)\n",
    "\n",
    "gold_data_df4"
   ]
  },
  {
   "cell_type": "code",
   "execution_count": null,
   "metadata": {},
   "outputs": [],
   "source": [
    "half_gold_df = pd.merge(gold_data_df, gold_data_df2, how=\"outer\", on=\"leagueId\")\n",
    "\n",
    "half_gold_df2 = pd.merge(gold_data_df3, gold_data_df4, how=\"outer\", on=\"leagueId\")\n",
    "\n",
    "full_gold_df = pd.merge(half_gold_df, half_gold_df2, how=\"outer\", on=\"leagueId\")\n",
    "\n",
    "full_gold_df"
   ]
  },
  {
   "cell_type": "code",
   "execution_count": null,
   "metadata": {},
   "outputs": [],
   "source": [
    "full_gold_df.columns"
   ]
  },
  {
   "cell_type": "code",
   "execution_count": null,
   "metadata": {},
   "outputs": [],
   "source": [
    "platinum_url = \"https://na1.api.riotgames.com/lol/league-exp/v4/entries/RANKED_SOLO_5x5/PLATINUM/I?page=1&api_key=\" + api_key\n",
    "platinum_data = requests.get(platinum_url).json()\n",
    "\n",
    "gold_data = pd.DataFrame(gold_data2)\n",
    "\n",
    "gold_data_df2"
   ]
  },
  {
   "cell_type": "code",
   "execution_count": null,
   "metadata": {},
   "outputs": [],
   "source": [
    "platinum_url2 = \"https://na1.api.riotgames.com/lol/league-exp/v4/entries/RANKED_SOLO_5x5/PLATINUM/II?page=1&api_key=\" + api_key\n",
    "platinum_data2 = requests.get(platinum_url2).json()\n"
   ]
  },
  {
   "cell_type": "code",
   "execution_count": null,
   "metadata": {},
   "outputs": [],
   "source": [
    "platinum_url3 = \"https://na1.api.riotgames.com/lol/league-exp/v4/entries/RANKED_SOLO_5x5/PLATINUM/III?page=1&api_key=\" + api_key\n",
    "platinum_data3 = requests.get(platinum_url3).json()\n"
   ]
  },
  {
   "cell_type": "code",
   "execution_count": null,
   "metadata": {},
   "outputs": [],
   "source": [
    "platinum_url4 = \"https://na1.api.riotgames.com/lol/league-exp/v4/entries/RANKED_SOLO_5x5/PLATINUM/IV?page=1&api_key=\" + api_key\n",
    "platinum_data4 = requests.get(platinum_url4).json()\n"
   ]
  },
  {
   "cell_type": "code",
   "execution_count": null,
   "metadata": {},
   "outputs": [],
   "source": [
    "half_platinum_df = pd.merge(platinum_data, platinum_data2, how=\"outer\", on=\"leagueId\")\n",
    "\n",
    "half_platinum_df2 = pd.merge(platinum_data3, platinum_data4, how=\"outer\", on=\"leagueId\")\n",
    "\n",
    "full_platinum_df = pd.merge(half_platinum_df, half_platinum_df2, how=\"outer\", on=\"leagueId\")\n",
    "\n",
    "full_platinium_df"
   ]
  },
  {
   "cell_type": "code",
   "execution_count": null,
   "metadata": {},
   "outputs": [],
   "source": []
  }
 ],
 "metadata": {
  "kernelspec": {
   "display_name": "Python 3",
   "language": "python",
   "name": "python3"
  },
  "language_info": {
   "codemirror_mode": {
    "name": "ipython",
    "version": 3
   },
   "file_extension": ".py",
   "mimetype": "text/x-python",
   "name": "python",
   "nbconvert_exporter": "python",
   "pygments_lexer": "ipython3",
   "version": "3.8.3"
  }
 },
 "nbformat": 4,
 "nbformat_minor": 4
}
